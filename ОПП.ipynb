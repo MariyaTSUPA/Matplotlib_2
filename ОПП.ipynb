{
 "cells": [
  {
   "cell_type": "markdown",
   "metadata": {
    "colab_type": "text",
    "id": "RbR5OTe50Za4"
   },
   "source": [
    "# Классы\n",
    "## Домашнее задание"
   ]
  },
  {
   "cell_type": "markdown",
   "metadata": {
    "colab_type": "text",
    "id": "Xh_DBCdu0Za5"
   },
   "source": [
    "### Вопросы по лекциям\n",
    "\n",
    "#### 1.\n",
    "\n",
    "Напишите название функции, которая является конструктором класса."
   ]
  },
  {
   "cell_type": "markdown",
   "metadata": {
    "colab_type": "text",
    "id": "8-Tj4AMg0Za6"
   },
   "source": [
    "**Ответ:** метод __init__"
   ]
  },
  {
   "cell_type": "markdown",
   "metadata": {
    "colab_type": "text",
    "id": "lf14yx330Za7"
   },
   "source": [
    "#### 2.\n",
    "\n",
    "На что указывает переменная `self`?"
   ]
  },
  {
   "cell_type": "markdown",
   "metadata": {
    "colab_type": "text",
    "id": "wI-0FWlF0Za8"
   },
   "source": [
    "**Ответ:** методу передаётся ссылка на объект-экземпляр."
   ]
  },
  {
   "cell_type": "markdown",
   "metadata": {
    "colab_type": "text",
    "id": "j_8_O_nl0Za8"
   },
   "source": [
    "#### 3.\n",
    "С помощью какой функции можно проверить, что некая строка является именем одного из атрибутов объекта?"
   ]
  },
  {
   "cell_type": "markdown",
   "metadata": {
    "colab_type": "text",
    "id": "5h8ASTrV0Za9"
   },
   "source": [
    "**Ответ:** hasattr()"
   ]
  },
  {
   "cell_type": "markdown",
   "metadata": {
    "colab_type": "text",
    "id": "G104VWgj0Za-"
   },
   "source": [
    "#### 4.\n",
    "Когда вызывается метод `__del__`? (относительно события удаления объекта)"
   ]
  },
  {
   "cell_type": "markdown",
   "metadata": {
    "colab_type": "text",
    "id": "Ukzoyxkn0Za-"
   },
   "source": [
    "**Ответ:** вызывается перед удлением объекта"
   ]
  },
  {
   "cell_type": "markdown",
   "metadata": {
    "colab_type": "text",
    "id": "MkF-HyBM0ZbA"
   },
   "source": [
    "#### 5.\n",
    "Верно ли, что атрибут класса перекрывает атрибут объекта?"
   ]
  },
  {
   "cell_type": "markdown",
   "metadata": {
    "colab_type": "text",
    "id": "o7B52kVt0ZbC"
   },
   "source": [
    "**Ответ:** не верно, атрибут объекта перекрывает атрибут класса"
   ]
  },
  {
   "cell_type": "markdown",
   "metadata": {
    "colab_type": "text",
    "id": "kSwZWV2B0ZbC"
   },
   "source": [
    "#### 6.\n",
    "Можно ли атрибуты базового класса вызывать в дочернем классе? Если да, то напишите, нет ли исклчений?"
   ]
  },
  {
   "cell_type": "markdown",
   "metadata": {
    "colab_type": "text",
    "id": "6i74Koih0ZbE"
   },
   "source": [
    "**Ответ:** можно, за исключением приватных атрибутов с двойным подчеркиванием"
   ]
  },
  {
   "cell_type": "markdown",
   "metadata": {
    "colab_type": "text",
    "id": "tl1St2O20ZbE"
   },
   "source": [
    "#### 7.\n",
    "Объясните своими словами для чего нужен метод `super`."
   ]
  },
  {
   "cell_type": "markdown",
   "metadata": {
    "colab_type": "text",
    "id": "rg3u1PoY0ZbF"
   },
   "source": [
    "**Ответ:** Используется для доступа к базовым реализациям наследуемых методов, перекрытых в классе-наследнике."
   ]
  },
  {
   "cell_type": "markdown",
   "metadata": {
    "colab_type": "text",
    "id": "5AiJn8ut0ZbG"
   },
   "source": [
    "### Практика\n",
    "\n",
    "1. Напишите класс `Fraction` для работы с дробями. Пусть дробь в нашем классе предстает в виде `числитель/знаменатель`. Дробное число должно создаваться по запросу `Fraction(a, b)`, где `a` – это числитель, а `b` – знаменатель дроби. \n",
    "2. Добавьте возможность сложения (сложения через оператор сложения) для дроби. Предполагается, что операция сложения может проводиться как только между дробями, так и между дробью и целым числом. Результат операции должен быть представлен в виде дроби.\n",
    "3. Добавьте возможность взятия разности (вычитания через оператор вычитания) для дробей. Предполагается, что операция вычитания может проводиться как только для двух дробей, так и для дроби и целого числа. Результат операции должен быть представлен в виде дроби.\n",
    "4. Добавьте возможность умножения (умножения через оператор умножения) для дробей. Предполагается, что операция умножения может проводиться как только для двух дробей, так и для дроби и целого числа. Результат операции должен быть представлен в виде дроби.\n",
    "5. Добавьте возможность приведения дроби к целому числу через стандартную функцию `int()`.\n",
    "6. Добавьте возможность приведения дроби к числу с плавающей точкой через стандартную функцию `float()`.\n",
    "7. Создайте дочерний класс `OperationsOnFraction` и добавьте туда собственные методы `getint` и `getfloat`, которые будут возвращать целую часть дроби и представление дроби в виде числа с плавающей точкой соответственно. \n",
    " "
   ]
  },
  {
   "cell_type": "code",
   "execution_count": 2,
   "metadata": {
    "colab": {},
    "colab_type": "code",
    "id": "ru3BJ52J0ZbG"
   },
   "outputs": [
    {
     "name": "stdout",
     "output_type": "stream",
     "text": [
      "0.4\n"
     ]
    }
   ],
   "source": [
    "# 1) \n",
    "\n",
    "class Fraction:\n",
    "\n",
    "    def __init__(self, a, b):\n",
    "        self.a = a\n",
    "        self.b = b\n",
    "\n",
    "    def test(self):\n",
    "        print(self.a / self.b)\n",
    "\n",
    "\n",
    "Fraction = Fraction(2, 5)\n",
    "Fraction.test()"
   ]
  },
  {
   "cell_type": "code",
   "execution_count": 3,
   "metadata": {},
   "outputs": [
    {
     "name": "stdout",
     "output_type": "stream",
     "text": [
      "0.8095238095238095\n",
      "3.142857142857143\n"
     ]
    }
   ],
   "source": [
    "# 2)\n",
    "class Fraction:\n",
    "\n",
    "    def __init__(self, a, b):\n",
    "        self.a = a\n",
    "        self.b = b\n",
    "\n",
    "    def __add__(self, other):\n",
    "        return other + self.a / self.b\n",
    "\n",
    "\n",
    "Fraction1 = Fraction(1, 7)\n",
    "Fraction2 = Fraction(2, 3)\n",
    "print(Fraction1 + Fraction2)\n",
    "print(Fraction1 + 3)"
   ]
  },
  {
   "cell_type": "code",
   "execution_count": 4,
   "metadata": {},
   "outputs": [
    {
     "name": "stdout",
     "output_type": "stream",
     "text": [
      "-0.5238095238095237\n",
      "2.857142857142857\n"
     ]
    }
   ],
   "source": [
    "# 3)\n",
    "class Fraction:\n",
    "\n",
    "    def __init__(self, a, b):\n",
    "        self.a = a\n",
    "        self.b = b\n",
    "\n",
    "    def __sub__(self, other):\n",
    "        return other - self.a / self.b\n",
    "\n",
    "\n",
    "Fraction1 = Fraction(1, 7)\n",
    "Fraction2 = Fraction(2, 3)\n",
    "print(Fraction1 - Fraction2)\n",
    "print(Fraction1 - 3)"
   ]
  },
  {
   "cell_type": "code",
   "execution_count": 5,
   "metadata": {},
   "outputs": [
    {
     "name": "stdout",
     "output_type": "stream",
     "text": [
      "0.09523809523809523\n",
      "0.42857142857142855\n"
     ]
    }
   ],
   "source": [
    "# 4)\n",
    "class Fraction:\n",
    "\n",
    "    def __init__(self, a, b):\n",
    "        self.a = a\n",
    "        self.b = b\n",
    "\n",
    "    def __mul__(self, other):\n",
    "        return other * self.a / self.b\n",
    "\n",
    "\n",
    "Fraction1 = Fraction(1, 7)\n",
    "Fraction2 = Fraction(2, 3)\n",
    "print(Fraction1 * Fraction2)\n",
    "print(Fraction1 * 3)"
   ]
  },
  {
   "cell_type": "code",
   "execution_count": 10,
   "metadata": {},
   "outputs": [
    {
     "name": "stdout",
     "output_type": "stream",
     "text": [
      "71\n"
     ]
    }
   ],
   "source": [
    "# 5)\n",
    "class Fraction:\n",
    "\n",
    "    def __init__(self, a, b):\n",
    "        self.a = a\n",
    "        self.b = b\n",
    "\n",
    "    def test(self):\n",
    "        print(int(self.a / self.b))\n",
    "\n",
    "\n",
    "Fraction = Fraction(500, 7)\n",
    "Fraction.test()"
   ]
  },
  {
   "cell_type": "code",
   "execution_count": 11,
   "metadata": {},
   "outputs": [
    {
     "name": "stdout",
     "output_type": "stream",
     "text": [
      "71.42857142857143\n"
     ]
    }
   ],
   "source": [
    "# 6)\n",
    "class Fraction:\n",
    "\n",
    "    def __init__(self, a, b):\n",
    "        self.a = a\n",
    "        self.b = b\n",
    "\n",
    "    def test(self):\n",
    "        print(float(self.a / self.b))\n",
    "\n",
    "\n",
    "Fraction = Fraction(500, 7)\n",
    "Fraction.test()"
   ]
  },
  {
   "cell_type": "code",
   "execution_count": 12,
   "metadata": {},
   "outputs": [
    {
     "name": "stdout",
     "output_type": "stream",
     "text": [
      "2\n",
      "2.0\n"
     ]
    }
   ],
   "source": [
    "# 7)\n",
    "class Fraction:\n",
    "\n",
    "    def __init__(self, a, b):\n",
    "        self.a = a\n",
    "        self.b = b\n",
    "\n",
    "\n",
    "class OperationsOnFraction(Fraction):\n",
    "\n",
    "    def getint(self):\n",
    "        print(int(self.a / self.b))\n",
    "\n",
    "    def getfloat(self):\n",
    "        print(float(self.a / self.b))\n",
    "\n",
    "\n",
    "OperationsOnFraction = OperationsOnFraction(10, 5)\n",
    "OperationsOnFraction.getint()\n",
    "OperationsOnFraction.getfloat()"
   ]
  }
 ],
 "metadata": {
  "colab": {
   "collapsed_sections": [],
   "name": "jun_anl_class.ipynb",
   "provenance": []
  },
  "kernelspec": {
   "display_name": "Python 3",
   "language": "python",
   "name": "python3"
  },
  "language_info": {
   "codemirror_mode": {
    "name": "ipython",
    "version": 3
   },
   "file_extension": ".py",
   "mimetype": "text/x-python",
   "name": "python",
   "nbconvert_exporter": "python",
   "pygments_lexer": "ipython3",
   "version": "3.8.3"
  }
 },
 "nbformat": 4,
 "nbformat_minor": 1
}
