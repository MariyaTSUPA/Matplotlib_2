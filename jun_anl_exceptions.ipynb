{
 "cells": [
  {
   "cell_type": "markdown",
   "metadata": {
    "colab_type": "text",
    "id": "c2KtXmjxtgw-"
   },
   "source": [
    "# Исключения\n",
    "## Домашняя работа"
   ]
  },
  {
   "cell_type": "markdown",
   "metadata": {
    "colab_type": "text",
    "id": "0Vhx-zKitgxA"
   },
   "source": [
    "### Вопросы по лекциям."
   ]
  },
  {
   "cell_type": "markdown",
   "metadata": {
    "colab_type": "text",
    "id": "14lleKewtgxC"
   },
   "source": [
    "Как поймать вообще все ошибки, которые могут произойти?"
   ]
  },
  {
   "cell_type": "markdown",
   "metadata": {
    "colab_type": "text",
    "id": "VQnYGkVKtgxD"
   },
   "source": [
    "**Ответ:** код, который может содержать ошибки помещают в спецкапсулу try/except\n"
   ]
  },
  {
   "cell_type": "markdown",
   "metadata": {
    "colab_type": "text",
    "id": "paSc2JE6tgxD"
   },
   "source": [
    "Сколько раз подряд можно указывать except?"
   ]
  },
  {
   "cell_type": "markdown",
   "metadata": {
    "colab_type": "text",
    "id": "bU0lzJPBtgxE"
   },
   "source": [
    "**Ответ:** нет ограничений\n"
   ]
  },
  {
   "cell_type": "markdown",
   "metadata": {
    "colab_type": "text",
    "id": "9wQ-yXpGtgxF"
   },
   "source": [
    "Вы хотите с помощью print вывести название ошибки в консоль, как это сделать?"
   ]
  },
  {
   "cell_type": "markdown",
   "metadata": {
    "colab_type": "text",
    "id": "iE1iqRZctgxH"
   },
   "source": [
    "**Ответ:** для этого в except указать тип ошибки (например: except ZeroDivisionError as exc: )\n",
    "в print нужно поместить {exc}\n"
   ]
  },
  {
   "cell_type": "markdown",
   "metadata": {
    "colab_type": "text",
    "id": "EDAi3ZFBtgxI"
   },
   "source": [
    "Вы хотите с помощью print вывести параметры ошибки в консоль, как это сделать?"
   ]
  },
  {
   "cell_type": "markdown",
   "metadata": {
    "colab_type": "text",
    "id": "qWimgtF3tgxK"
   },
   "source": [
    "**Ответ:** в print нужно поместить {Название ошибки.args}\n"
   ]
  },
  {
   "cell_type": "markdown",
   "metadata": {
    "colab_type": "text",
    "id": "leOCJIlRtgxK"
   },
   "source": [
    "Что такое DeprecationWarning?"
   ]
  },
  {
   "cell_type": "markdown",
   "metadata": {
    "colab_type": "text",
    "id": "KyaynuyvtgxL"
   },
   "source": [
    "**Ответ:** Категория предупреждений. Эту категорию обычно используют для указания на то, что некая часть функциональности устарела и не рекомендуется к использованию.\n"
   ]
  },
  {
   "cell_type": "markdown",
   "metadata": {
    "colab_type": "text",
    "id": "oxgCUHzotgxM"
   },
   "source": [
    "### Разминочные задания. \n",
    "<br>\n",
    "\n",
    "Вам даны две функции. Поисследуйте, какие ошибки могут возникнуть при их реализации. Обработайте эти ошибки."
   ]
  },
  {
   "cell_type": "code",
   "execution_count": 2,
   "metadata": {
    "colab": {},
    "colab_type": "code",
    "id": "X4nsMUUAtgxN"
   },
   "outputs": [],
   "source": [
    "def div():\n",
    "    for i in range(2):\n",
    "        x = int(input(\"enter a number: \"))\n",
    "        y = int(input(\"enter another number: \"))\n",
    "        print(x, '/', y, '=', x/y)\n"
   ]
  },
  {
   "cell_type": "code",
   "execution_count": 3,
   "metadata": {},
   "outputs": [
    {
     "name": "stdout",
     "output_type": "stream",
     "text": [
      "enter a number: 5\n",
      "enter another number: 0\n",
      "На 0 делить нельзя!\n"
     ]
    }
   ],
   "source": [
    "def div():\n",
    "    for i in range(2):\n",
    "        x = int(input(\"enter a number: \"))\n",
    "        y = int(input(\"enter another number: \"))\n",
    "        print(x, '/', y, '=', x/y)\n",
    "\n",
    "\n",
    "try:\n",
    "    div()\n",
    "except ZeroDivisionError:\n",
    "    print(\"На 0 делить нельзя!\")"
   ]
  },
  {
   "cell_type": "code",
   "execution_count": 0,
   "metadata": {
    "colab": {},
    "colab_type": "code",
    "id": "hoDmt-nStgxS"
   },
   "outputs": [],
   "source": [
    "def sumOfPairs(L1, L2):\n",
    "    sum = 0\n",
    "    sumOfPairs = []\n",
    "    for i in range(len(L1)):\n",
    "        sumOfPairs.append(L1[i]+L2[i])\n",
    "\n",
    "    print(\"sumOfPairs = \", sumOfPairs)\n",
    "    "
   ]
  },
  {
   "cell_type": "code",
   "execution_count": 4,
   "metadata": {},
   "outputs": [
    {
     "name": "stdout",
     "output_type": "stream",
     "text": [
      "В списках L1 и L2 должны быть только целые числа!\n"
     ]
    }
   ],
   "source": [
    "def sumOfPairs(L1, L2):\n",
    "    if len(L1) > 2 and len(L2) > 2:\n",
    "        raise BaseException('L1 и L2 должны содержать не более 2-х значений')\n",
    "    if len(L1) < 2 and len(L2) < 2:\n",
    "        raise BaseException('L1 и L2 должны содержать не менее 2-х значений')\n",
    "    sum = 0\n",
    "    sumOfPairs = []\n",
    "    for i in range(len(L1)):\n",
    "        sumOfPairs.append(L1[i]+L2[i])\n",
    "    print(\"sumOfPairs = \", sumOfPairs)\n",
    "    if sumOfPairs != int:\n",
    "        raise BaseException('Выводить нужно сумму пар!!!')\n",
    "\n",
    "\n",
    "try:\n",
    "    sumOfPairs(['Маша', 5], [5, 4])\n",
    "except TypeError:\n",
    "    print('В списках L1 и L2 должны быть только целые числа!')\n",
    "except IndexError:\n",
    "    print('L1 и L2 должны содержат одинаковое количество значений')"
   ]
  },
  {
   "cell_type": "markdown",
   "metadata": {
    "colab_type": "text",
    "id": "geX0-Zq6tgxU"
   },
   "source": [
    "### Задание 1.\n",
    "\n",
    "Есть файл с протоколом регистраций пользователей на сайте (registrations.txt).<br>\n",
    "Каждая строка содержит информацию о имени, электронной почте и возрасте человека. <br><br>\n",
    "\n",
    "\n",
    "Надо проверить данные из файла, для каждой строки:\n",
    " - присутсвуют все три поля\n",
    " - поле имени содержит только буквы\n",
    " - поле email содержит @ и .\n",
    " - поле возраст является числом от 10 до 99<br>\n",
    "\n",
    "В результате проверки нужно сформировать два файла\n",
    " - registrations_good.log для правильных данных, записывать строки как есть\n",
    "- registrations_bad.log для ошибочных, записывать строку и вид ошибки.<br>\n",
    "\n",
    "Для валидации строки данных написать метод, который может выкидывать исключения:\n",
    " - НЕ присутсвуют все три поля: ValueError\n",
    " - поле имени содержит НЕ только буквы: NotNameError (кастомное исключение)\n",
    " - поле email НЕ содержит @ и .(точку): NotEmailError (кастомное исключение)\n",
    " - поле возраст НЕ является числом от 10 до 99: ValueError\n",
    "Вызов метода обернуть в try-except."
   ]
  },
  {
   "cell_type": "code",
   "execution_count": null,
   "metadata": {},
   "outputs": [],
   "source": [
    "import termcolor\n",
    "import codecs\n",
    "\n",
    "\n",
    "class NotNameError(Exception):\n",
    "    pass\n",
    "\n",
    "\n",
    "class NotEmailError(Exception):\n",
    "    pass\n",
    "\n",
    "\n",
    "class NotPlaceError(Exception):\n",
    "    pass\n",
    "\n",
    "\n",
    "with codecs.open('registrations_.txt', 'r', encoding='utf8') as file:\n",
    "    for line in file:\n",
    "        line = line[:-1]\n",
    "        try:\n",
    "            name, email, age = line.split(' ')\n",
    "\n",
    "            age_int = int(age)\n",
    "\n",
    "            if age_int is False:\n",
    "                raise NotPlaceError\n",
    "            elif any(char in \"@.\" for char in name) is True:\n",
    "                raise NotPlaceError\n",
    "\n",
    "            elif name.isalpha() is False:\n",
    "                raise NotNameError\n",
    "\n",
    "            elif age_int < 9:\n",
    "                raise ValueError\n",
    "            elif age_int > 99:\n",
    "                raise ValueError\n",
    "\n",
    "            elif any(char in \"@\" for char in email) is False:\n",
    "                raise NotEmailError\n",
    "            elif any(char in \".\" for char in email) is False:\n",
    "                raise NotEmailError\n",
    "\n",
    "            print(line)\n",
    "            termcolor.cprint('-------------------------------------------------------------', color='yellow')\n",
    "\n",
    "            with open('registrations_good.log', 'a') as good:\n",
    "                good.write(line)\n",
    "\n",
    "        except ValueError:\n",
    "            termcolor.cprint(line, color='red')\n",
    "            termcolor.cprint('-------------------------------------------------------------', color='yellow')\n",
    "            with open('registrations_bad.log', 'a') as bad:\n",
    "                bad.write('ValueError ')\n",
    "                bad.write(line)\n",
    "        except NotNameError:\n",
    "            termcolor.cprint(line, color='blue')\n",
    "            with open('registrations_bad.log', 'a') as bad:\n",
    "                bad.write('NotNameError ')\n",
    "                bad.write(line)\n",
    "                termcolor.cprint('-------------------------------------------------------------', color='yellow')\n",
    "        except NotEmailError:\n",
    "            termcolor.cprint(line, color='cyan')\n",
    "            termcolor.cprint('-------------------------------------------------------------', color='yellow')\n",
    "            with open('registrations_bad.log', 'a') as bad:\n",
    "                bad.write('NotEmailError ')\n",
    "                bad.write(line)\n",
    "        except NotPlaceError:\n",
    "            termcolor.cprint(line, color='green')\n",
    "            termcolor.cprint('-------------------------------------------------------------', color='yellow')\n",
    "            with open('registrations_bad.log', 'a') as bad:\n",
    "                bad.write('NotEmailError ')\n",
    "                bad.write(line)"
   ]
  }
 ],
 "metadata": {
  "colab": {
   "name": "jun_anl_exeptions.ipynb",
   "provenance": [],
   "version": "0.3.2"
  },
  "kernelspec": {
   "display_name": "Python 3",
   "language": "python",
   "name": "python3"
  },
  "language_info": {
   "codemirror_mode": {
    "name": "ipython",
    "version": 3
   },
   "file_extension": ".py",
   "mimetype": "text/x-python",
   "name": "python",
   "nbconvert_exporter": "python",
   "pygments_lexer": "ipython3",
   "version": "3.8.3"
  }
 },
 "nbformat": 4,
 "nbformat_minor": 1
}
