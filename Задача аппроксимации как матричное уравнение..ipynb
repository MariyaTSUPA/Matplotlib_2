{
 "cells": [
  {
   "cell_type": "code",
   "execution_count": 2,
   "metadata": {},
   "outputs": [],
   "source": [
    "from sympy import *\n",
    "import numpy as np"
   ]
  },
  {
   "cell_type": "code",
   "execution_count": 42,
   "metadata": {},
   "outputs": [],
   "source": [
    "## Задание 1 часть 1\n",
    "\n",
    "X1 = Matrix([[2,3]\n",
    "           ,[0,1]])\n",
    "\n",
    "b1 = Matrix([2,4])\n",
    "\n",
    "X2 = Matrix([[1,5]\n",
    "           ,[0,3]])\n",
    "\n",
    "b2 = Matrix([3,9])"
   ]
  },
  {
   "cell_type": "code",
   "execution_count": 43,
   "metadata": {},
   "outputs": [
    {
     "data": {
      "text/latex": [
       "$\\displaystyle \\left[\\begin{matrix}-5\\\\4\\end{matrix}\\right]$"
      ],
      "text/plain": [
       "Matrix([\n",
       "[-5],\n",
       "[ 4]])"
      ]
     },
     "execution_count": 43,
     "metadata": {},
     "output_type": "execute_result"
    }
   ],
   "source": [
    "X1**(-1)*b1"
   ]
  },
  {
   "cell_type": "code",
   "execution_count": 44,
   "metadata": {},
   "outputs": [
    {
     "data": {
      "text/latex": [
       "$\\displaystyle \\left[\\begin{matrix}-12\\\\3\\end{matrix}\\right]$"
      ],
      "text/plain": [
       "Matrix([\n",
       "[-12],\n",
       "[  3]])"
      ]
     },
     "execution_count": 44,
     "metadata": {},
     "output_type": "execute_result"
    }
   ],
   "source": [
    "X2**(-1)*b2"
   ]
  },
  {
   "cell_type": "code",
   "execution_count": 65,
   "metadata": {},
   "outputs": [],
   "source": [
    "## Задание 1 часть 2\n",
    "\n",
    "X1_2 = Matrix([[2,3,-1]\n",
    "              ,[0,1,1]\n",
    "              ,[1,-1,2]])\n",
    "\n",
    "b1_2 = Matrix([2,4,6])\n",
    "\n",
    "X2_2 = Matrix([[1,5,-2]\n",
    "              ,[0,3,1]\n",
    "              ,[-4,-6,2]])\n",
    "\n",
    "b2_2 = Matrix([8,16,32])"
   ]
  },
  {
   "cell_type": "code",
   "execution_count": 62,
   "metadata": {},
   "outputs": [
    {
     "data": {
      "text/latex": [
       "$\\displaystyle 100$"
      ],
      "text/plain": [
       "100"
      ]
     },
     "execution_count": 62,
     "metadata": {},
     "output_type": "execute_result"
    }
   ],
   "source": [
    "mul = X1_2.T * X1_2\n",
    "mul.det()"
   ]
  },
  {
   "cell_type": "code",
   "execution_count": 60,
   "metadata": {},
   "outputs": [
    {
     "data": {
      "text/latex": [
       "$\\displaystyle \\left[\\begin{matrix}1\\\\1\\\\3\\end{matrix}\\right]$"
      ],
      "text/plain": [
       "Matrix([\n",
       "[1],\n",
       "[1],\n",
       "[3]])"
      ]
     },
     "execution_count": 60,
     "metadata": {},
     "output_type": "execute_result"
    }
   ],
   "source": [
    "X_pseudo_inverse = (X1_2.T * X1_2)**(-1) * X1_2.T \n",
    "best_point = X_pseudo_inverse * b1_2\n",
    "best_point"
   ]
  },
  {
   "cell_type": "code",
   "execution_count": 66,
   "metadata": {},
   "outputs": [
    {
     "data": {
      "text/latex": [
       "$\\displaystyle 1024$"
      ],
      "text/plain": [
       "1024"
      ]
     },
     "execution_count": 66,
     "metadata": {},
     "output_type": "execute_result"
    }
   ],
   "source": [
    "mul = X2_2.T * X2_2\n",
    "mul.det()"
   ]
  },
  {
   "cell_type": "code",
   "execution_count": 67,
   "metadata": {},
   "outputs": [
    {
     "data": {
      "text/latex": [
       "$\\displaystyle \\left[\\begin{matrix}-15\\\\5\\\\1\\end{matrix}\\right]$"
      ],
      "text/plain": [
       "Matrix([\n",
       "[-15],\n",
       "[  5],\n",
       "[  1]])"
      ]
     },
     "execution_count": 67,
     "metadata": {},
     "output_type": "execute_result"
    }
   ],
   "source": [
    "X_pseudo_inverse = (X2_2.T * X2_2)**(-1) * X2_2.T \n",
    "best_point = X_pseudo_inverse * b2_2\n",
    "best_point"
   ]
  },
  {
   "cell_type": "code",
   "execution_count": 68,
   "metadata": {},
   "outputs": [
    {
     "data": {
      "text/latex": [
       "$\\displaystyle 56.25$"
      ],
      "text/plain": [
       "56.2500000000000"
      ]
     },
     "execution_count": 68,
     "metadata": {},
     "output_type": "execute_result"
    }
   ],
   "source": [
    "## Задание 2\n",
    "\n",
    "a1, a2 = symbols('a1, a2')\n",
    "\n",
    "\n",
    "MSE = 1/4 * ((a1 * 1 + a2 * 2 - 5)**2 + \\\n",
    "             (a1 * 5 + a2 * 3 - 6)**2 + \\\n",
    "             (a1 * 2 + a2 * 4 - 10)**2 + \\\n",
    "             (a1 * 3 + a2 * 7 - 8)**2)\n",
    "\n",
    "MSE.subs({a1: 0, a2: 0})"
   ]
  },
  {
   "cell_type": "code",
   "execution_count": 69,
   "metadata": {},
   "outputs": [],
   "source": [
    "X = Matrix([[1,2]\n",
    "           ,[5,3]\n",
    "           ,[2,4]\n",
    "           ,[3,7]])\n",
    "\n",
    "b = Matrix([5,6,10,8])"
   ]
  },
  {
   "cell_type": "code",
   "execution_count": 70,
   "metadata": {},
   "outputs": [
    {
     "data": {
      "text/latex": [
       "$\\displaystyle 926$"
      ],
      "text/plain": [
       "926"
      ]
     },
     "execution_count": 70,
     "metadata": {},
     "output_type": "execute_result"
    }
   ],
   "source": [
    "mul = X.T * X\n",
    "mul.det()"
   ]
  },
  {
   "cell_type": "code",
   "execution_count": 71,
   "metadata": {},
   "outputs": [
    {
     "data": {
      "text/latex": [
       "$\\displaystyle \\left[\\begin{matrix}\\frac{229}{463}\\\\\\frac{601}{463}\\end{matrix}\\right]$"
      ],
      "text/plain": [
       "Matrix([\n",
       "[229/463],\n",
       "[601/463]])"
      ]
     },
     "execution_count": 71,
     "metadata": {},
     "output_type": "execute_result"
    }
   ],
   "source": [
    "X_pseudo_inverse = (X.T * X)**(-1) * X.T \n",
    "best_point = X_pseudo_inverse * b\n",
    "best_point"
   ]
  },
  {
   "cell_type": "code",
   "execution_count": 73,
   "metadata": {},
   "outputs": [
    {
     "data": {
      "text/latex": [
       "$\\displaystyle 6.24190064794816$"
      ],
      "text/plain": [
       "6.24190064794816"
      ]
     },
     "execution_count": 73,
     "metadata": {},
     "output_type": "execute_result"
    }
   ],
   "source": [
    "MSE_2 = MSE.subs({a1: best_point[0], a2: best_point[1]})\n",
    "MSE_2"
   ]
  },
  {
   "cell_type": "code",
   "execution_count": 77,
   "metadata": {},
   "outputs": [],
   "source": [
    "# Первый результат\n",
    "MSE_1 = 6.35010849011797\n",
    "\n",
    "# Ошибка снизилась на 0,1"
   ]
  }
 ],
 "metadata": {
  "kernelspec": {
   "display_name": "Python 3",
   "language": "python",
   "name": "python3"
  },
  "language_info": {
   "codemirror_mode": {
    "name": "ipython",
    "version": 3
   },
   "file_extension": ".py",
   "mimetype": "text/x-python",
   "name": "python",
   "nbconvert_exporter": "python",
   "pygments_lexer": "ipython3",
   "version": "3.8.3"
  }
 },
 "nbformat": 4,
 "nbformat_minor": 4
}
